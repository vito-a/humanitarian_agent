{
 "cells": [
  {
   "cell_type": "code",
   "execution_count": 4,
   "id": "04662460-affc-47e2-b48d-1a5c9507eb58",
   "metadata": {},
   "outputs": [
    {
     "name": "stdout",
     "output_type": "stream",
     "text": [
      "Before: {'www.latimes.com': 1, 'www.rferl.org': 1, 'rss.cnn.com': 1, 'rssfeeds.usatoday.com': 1, 'www.foreignaffairs.com': 1, 'rss.nytimes.com': 1, 'feeds.a.dj.com': 1, 'www.politico.com': 1, 'www.politico.eu': 1, 'www.ft.com': 1, 'feeds.npr.org': 4, 'www.atlanticcouncil.org': 1, 'abcnews.go.com': 1, 'feeds.washingtonpost.com': 1, 'www.nytimes.com': 1, 'news.google.com': 1, 'www.theguardian.com': 1}\n",
      "DRY-RUN: Move d1108e74d0_2025-09-08.xml -> rss.cnn.com/d1108e74d0_2025-09-08.xml\n",
      "DRY-RUN: Move 185af35eae_2025-09-08.xml -> feeds.npr.org/185af35eae_2025-09-08.xml\n",
      "Feed migration summary: {'total': 22, 'migrated': 0, 'skipped_ok': 20, 'missing_files': 0, 'collisions': 0}\n",
      "Move d1108e74d0_2025-09-08.xml -> rss.cnn.com/d1108e74d0_2025-09-08.xml\n",
      "Move 185af35eae_2025-09-08.xml -> feeds.npr.org/185af35eae_2025-09-08.xml\n",
      "Feed migration summary: {'total': 22, 'migrated': 2, 'skipped_ok': 20, 'missing_files': 0, 'collisions': 0}\n",
      "After : {'www.latimes.com': 1, 'www.rferl.org': 1, 'rss.cnn.com': 2, 'rssfeeds.usatoday.com': 1, 'www.foreignaffairs.com': 1, 'rss.nytimes.com': 1, 'feeds.a.dj.com': 1, 'www.politico.com': 1, 'www.politico.eu': 1, 'www.ft.com': 1, 'feeds.npr.org': 5, 'www.atlanticcouncil.org': 1, 'abcnews.go.com': 1, 'feeds.washingtonpost.com': 1, 'www.nytimes.com': 1, 'news.google.com': 1, 'www.theguardian.com': 1}\n"
     ]
    }
   ],
   "source": [
    "from src.ingest.rss_cache_migrations import (\n",
    "    migrate_page_cache_to_domains,\n",
    "    migrate_feeds_cache_to_domains,\n",
    "    list_pages_domain_cache_counts,\n",
    "    list_feeds_domain_cache_counts,\n",
    ")\n",
    "\n",
    "# Preview\n",
    "#print(\"Before:\", list_domain_cache_counts())\n",
    "#migrate_page_cache_to_domains(dry_run=True)\n",
    "\n",
    "print(\"Before:\", list_feeds_domain_cache_counts())\n",
    "migrate_feeds_cache_to_domains(dry_run=True)\n",
    "\n",
    "# Execute\n",
    "#summary = migrate_page_cache_to_domains(dry_run=False)\n",
    "#print(summary)\n",
    "#print(\"After :\", list_pages_domain_cache_counts())\n",
    "\n",
    "migrate_feeds_cache_to_domains(dry_run=False)\n",
    "print(\"After :\", list_feeds_domain_cache_counts())"
   ]
  },
  {
   "cell_type": "code",
   "execution_count": null,
   "id": "04aff547-0100-46e6-a72b-474ec33e40ba",
   "metadata": {},
   "outputs": [],
   "source": []
  },
  {
   "cell_type": "code",
   "execution_count": null,
   "id": "ffcbe0f2-df56-406a-83b1-563e8a9aa6a9",
   "metadata": {},
   "outputs": [],
   "source": []
  }
 ],
 "metadata": {
  "kernelspec": {
   "display_name": "Python 3 (ipykernel)",
   "language": "python",
   "name": "python3"
  },
  "language_info": {
   "codemirror_mode": {
    "name": "ipython",
    "version": 3
   },
   "file_extension": ".py",
   "mimetype": "text/x-python",
   "name": "python",
   "nbconvert_exporter": "python",
   "pygments_lexer": "ipython3",
   "version": "3.12.11"
  }
 },
 "nbformat": 4,
 "nbformat_minor": 5
}
