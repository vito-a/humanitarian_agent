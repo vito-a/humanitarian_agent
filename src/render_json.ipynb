{
 "cells": [
  {
   "cell_type": "code",
   "execution_count": 1,
   "id": "49e88634-5fb8-4ce0-a995-41fc3e8019a8",
   "metadata": {},
   "outputs": [
    {
     "name": "stdout",
     "output_type": "stream",
     "text": [
      "Building report for country: ukraine (max_items=15, per_section_cap=4)\n",
      "compose: found 15 rows for country: ukraine\n",
      "[ROUTE] id=2969 -> section='Security & Civilian Impact' score=220 (cat_hits=2, txt_hits=7) (cap left: 3)\n",
      "        matches: civilian, kill, dead, evacuat(e|ion), surviv(e|ors), impact\n",
      "[ROUTE] id=2980 -> section='Security & Civilian Impact' score=180 (cat_hits=2, txt_hits=5) (cap left: 2)\n",
      "        matches: civilian, emergency, shelling, hit, impact, violat(e|ion)\n",
      "[ROUTE] id=2751 -> section='Security & Civilian Impact' score=160 (cat_hits=2, txt_hits=4) (cap left: 1)\n",
      "        matches: civilian, dead, emergency, impact, violat(e|ion)\n",
      "[ROUTE] id=2968 -> section='Security & Civilian Impact' score=140 (cat_hits=2, txt_hits=3) (cap left: 0)\n",
      "        matches: civilian, kill, dead, impact\n",
      "[ROUTE] id=2966 -> section='Energy & Utilities' score=24 (cat_hits=1, txt_hits=2) (cap left: 3)\n",
      "        matches: energy, oil\n",
      "[ROUTE] id=2554 -> section='Health & Medical Services' score=70 (cat_hits=2, txt_hits=3) (cap left: 3)\n",
      "        matches: injur(y|ed|ies), medical, recover\n",
      "[ROUTE] id=2967 -> section='Health & Medical Services' score=50 (cat_hits=2, txt_hits=1) (cap left: 2)\n",
      "        matches: medical, ill\n",
      "[ROUTE] id=2555 -> section='Health & Medical Services' score=100 (cat_hits=2, txt_hits=6) (cap left: 1)\n",
      "        matches: wound, injur(y|ed|ies), medical, ill, recover\n",
      "[ROUTE] id=2978 -> section='Energy & Utilities' score=24 (cat_hits=1, txt_hits=2) (cap left: 2)\n",
      "        matches: energy, oil\n",
      "[ROUTE] id=3044 -> section='Health & Medical Services' score=60 (cat_hits=2, txt_hits=2) (cap left: 0)\n",
      "        matches: wound, medical\n",
      "[ROUTE] id=2608 -> section='Energy & Utilities' score=12 (cat_hits=1, txt_hits=0) (cap left: 1)\n",
      "        matches: energy\n",
      "[ROUTE] id=3051 -> section='Energy & Utilities' score=18 (cat_hits=1, txt_hits=1) (cap left: 0)\n",
      "        matches: energy, oil\n"
     ]
    },
    {
     "data": {
      "text/plain": [
       "('/home/jovyan/work/humanitarian_agent/data/reports/ukraine_2025-09-14.docx',\n",
       " '/home/jovyan/work/humanitarian_agent/data/reports/ukraine_2025-09-14.pdf')"
      ]
     },
     "execution_count": 1,
     "metadata": {},
     "output_type": "execute_result"
    }
   ],
   "source": [
    "from src.report.compose import build_country_report\n",
    "from src.report.render_json import render_from_json\n",
    "\n",
    "country = \"ukraine\"\n",
    "country_title = country.capitalize()\n",
    "report = build_country_report(country)\n",
    "#load_country(country, max_items=50)\n",
    "#generate_docx_structured(sections, refs, \"\", f\"data/reports/{base}.docx\", country=c, report_title=title, section_order=report.get(\"section_order\"))\n",
    "#generate_pdf_structured(sections, refs, \"\", f\"data/reports/{base}.pdf\", country=c, report_title=title, section_order=report.get(\"section_order\"))\n",
    "\n",
    "render_from_json(\n",
    "    json_path = f\"data/reports/{country}_2025-09-14.json\",\n",
    "    report_title = f\"Humanitarian Situation Digest: {country_title}\",\n",
    "    out_docx = None,   # default path auto-derived from JSON\n",
    "    out_pdf = None    # default path auto-derived from JSON\n",
    ")"
   ]
  },
  {
   "cell_type": "code",
   "execution_count": null,
   "id": "1993ae29-7065-43d4-b588-78978d241bdf",
   "metadata": {},
   "outputs": [],
   "source": []
  }
 ],
 "metadata": {
  "kernelspec": {
   "display_name": "Python 3 (ipykernel)",
   "language": "python",
   "name": "python3"
  },
  "language_info": {
   "codemirror_mode": {
    "name": "ipython",
    "version": 3
   },
   "file_extension": ".py",
   "mimetype": "text/x-python",
   "name": "python",
   "nbconvert_exporter": "python",
   "pygments_lexer": "ipython3",
   "version": "3.12.11"
  }
 },
 "nbformat": 4,
 "nbformat_minor": 5
}
