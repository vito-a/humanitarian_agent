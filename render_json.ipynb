{
 "cells": [
  {
   "cell_type": "code",
   "execution_count": 1,
   "id": "49e88634-5fb8-4ce0-a995-41fc3e8019a8",
   "metadata": {
    "editable": true,
    "slideshow": {
     "slide_type": ""
    },
    "tags": []
   },
   "outputs": [
    {
     "name": "stdout",
     "output_type": "stream",
     "text": [
      "Building report for country: ukraine (max_items=50, per_section_cap=4)\n",
      "compose: found 50 rows for country: ukraine\n",
      "Coat of arms exists for title=ukraine\n",
      "\n",
      "compose: coat of arms ready at assets/coat_of_arms/ukraine.png\n",
      "[ROUTE] id=3170 -> section='Security & Civilian Impact' score=360 (cat_hits=4, txt_hits=10) (cap left: 3)\n",
      "        matches: civilian, school, child, deport, brainwash, crim(e|inal), humanitar(y|ian), impact\n",
      "[ROUTE] id=1801 -> section='Security & Civilian Impact' score=340 (cat_hits=4, txt_hits=9) (cap left: 2)\n",
      "        matches: civilian, kill, assault, crisis, humanitar(y|ian), urgent, impact, siren\n",
      "[ROUTE] id=1468 -> section='Security & Civilian Impact' score=280 (cat_hits=4, txt_hits=6) (cap left: 1)\n",
      "        matches: civilian, kill, dead, humanitar(y|ian), impact, brutal\n",
      "[ROUTE] id=2969 -> section='Security & Civilian Impact' score=260 (cat_hits=2, txt_hits=9) (cap left: 0)\n",
      "        matches: civilian, kill, evacuat(e|ion), damage, surviv(e|ors), impact\n",
      "[ROUTE] id=3143 -> section='Food & Markets' score=40 (cat_hits=2, txt_hits=1) (cap left: 3)\n",
      "        matches: food, eat, market\n",
      "[ROUTE] id=313 -> section='Energy & Utilities' score=18 (cat_hits=1, txt_hits=1) (cap left: 3)\n",
      "        matches: energy, dam\n",
      "[ROUTE] id=1803 -> section='Health & Medical Services' score=80 (cat_hits=2, txt_hits=4) (cap left: 3)\n",
      "        matches: injur(y|ed|ies), medical, ill\n",
      "[ROUTE] id=2968 -> section='Health & Medical Services' score=110 (cat_hits=2, txt_hits=7) (cap left: 2)\n",
      "        matches: elder, injur(y|ed|ies), medical, ill, pension\n",
      "[ROUTE] id=1767 -> section='Health & Medical Services' score=60 (cat_hits=2, txt_hits=2) (cap left: 1)\n",
      "        matches: injur(y|ed|ies), medical, ill\n",
      "[ROUTE] id=1855 -> section='Health & Medical Services' score=40 (cat_hits=0, txt_hits=4) (cap left: 0)\n",
      "        matches: elder, injur(y|ed|ies), ill\n",
      "[ROUTE] id=1819 -> section='Energy & Utilities' score=24 (cat_hits=1, txt_hits=2) (cap left: 2)\n",
      "        matches: energy, dam\n",
      "[ROUTE] id=2123 -> section='Energy & Utilities' score=18 (cat_hits=0, txt_hits=3) (cap left: 1)\n",
      "        matches: power, dam, outage\n",
      "[ROUTE] id=3192 -> section='Energy & Utilities' score=24 (cat_hits=0, txt_hits=4) (cap left: 0)\n",
      "        matches: electric, dam, electricity\n",
      "[ROUTE] id=3171 -> section='Food & Markets' score=8 (cat_hits=0, txt_hits=1) (cap left: 2)\n",
      "        matches: eat\n",
      "[ROUTE] id=3191 -> section='Food & Markets' score=8 (cat_hits=0, txt_hits=1) (cap left: 1)\n",
      "        matches: food\n",
      "[ROUTE] id=1818 -> section='Food & Markets' score=8 (cat_hits=0, txt_hits=1) (cap left: 0)\n",
      "        matches: eat\n",
      "compose: reusing non-empty narrative sections from existing JSON\n",
      "Generating top summary body\n",
      "\n",
      "Generating Why Support\n",
      "\n",
      "Generating Conclusion\n",
      "\n",
      "Coat of arms exists for title=ukraine\n",
      "\n",
      "Coat of arms exists for title=ukraine\n",
      "\n"
     ]
    },
    {
     "data": {
      "text/plain": [
       "('/home/jovyan/work/humanitarian_agent/data/reports/ukraine_2025-09-17.docx',\n",
       " '/home/jovyan/work/humanitarian_agent/data/reports/ukraine_2025-09-17.pdf')"
      ]
     },
     "execution_count": 1,
     "metadata": {},
     "output_type": "execute_result"
    }
   ],
   "source": [
    "from src.report.compose import build_country_report, format_us_date\n",
    "from src.report.render_json import render_from_json\n",
    "\n",
    "country = \"ukraine\"\n",
    "country_title = country.capitalize()\n",
    "report = build_country_report(country)\n",
    "#load_country(country, max_items=50)\n",
    "#generate_docx_structured(sections, refs, \"\", f\"data/reports/{base}.docx\", country=c, report_title=title, section_order=report.get(\"section_order\"))\n",
    "#generate_pdf_structured(sections, refs, \"\", f\"data/reports/{base}.pdf\", country=c, report_title=title, section_order=report.get(\"section_order\"))\n",
    "\n",
    "render_from_json(\n",
    "    json_path = f\"data/reports/{country}_2025-09-17.json\",\n",
    "    report_title = f\"Humanitarian Situation Digest: {country_title} — {format_us_date()}\",\n",
    "    out_docx = None,   # default path auto-derived from JSON\n",
    "    out_pdf = None    # default path auto-derived from JSON\n",
    ")"
   ]
  },
  {
   "cell_type": "code",
   "execution_count": null,
   "id": "1993ae29-7065-43d4-b588-78978d241bdf",
   "metadata": {},
   "outputs": [],
   "source": []
  }
 ],
 "metadata": {
  "kernelspec": {
   "display_name": "Python 3 (ipykernel)",
   "language": "python",
   "name": "python3"
  },
  "language_info": {
   "codemirror_mode": {
    "name": "ipython",
    "version": 3
   },
   "file_extension": ".py",
   "mimetype": "text/x-python",
   "name": "python",
   "nbconvert_exporter": "python",
   "pygments_lexer": "ipython3",
   "version": "3.12.11"
  }
 },
 "nbformat": 4,
 "nbformat_minor": 5
}
